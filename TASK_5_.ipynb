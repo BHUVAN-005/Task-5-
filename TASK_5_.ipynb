{
  "nbformat": 4,
  "nbformat_minor": 0,
  "metadata": {
    "colab": {
      "provenance": [],
      "authorship_tag": "ABX9TyO5uwwRWxlZB1nTa7uUeReP",
      "include_colab_link": true
    },
    "kernelspec": {
      "name": "python3",
      "display_name": "Python 3"
    },
    "language_info": {
      "name": "python"
    }
  },
  "cells": [
    {
      "cell_type": "markdown",
      "metadata": {
        "id": "view-in-github",
        "colab_type": "text"
      },
      "source": [
        "<a href=\"https://colab.research.google.com/github/BHUVAN-005/Task-5-/blob/main/TASK_5_.ipynb\" target=\"_parent\"><img src=\"https://colab.research.google.com/assets/colab-badge.svg\" alt=\"Open In Colab\"/></a>"
      ]
    },
    {
      "cell_type": "code",
      "execution_count": 1,
      "metadata": {
        "colab": {
          "base_uri": "https://localhost:8080/"
        },
        "id": "6x0loJ_f0aIW",
        "outputId": "fd5b1691-7fa1-4e37-b616-685446ad598d"
      },
      "outputs": [
        {
          "output_type": "stream",
          "name": "stdout",
          "text": [
            "Student: Alice, GPA: 3.33\n"
          ]
        }
      ],
      "source": [
        "# Hardcoded example for one student\n",
        "student_name = \"Alice\"\n",
        "grades = ['A', 'B', 'A', 'C']  # Grades for each course\n",
        "credits = [3, 4, 3, 2]         # Credits for each course\n",
        "\n",
        "# Grade to GPA mapping\n",
        "grade_points = {'A': 4.0, 'B': 3.0, 'C': 2.0, 'D': 1.0, 'F': 0.0}\n",
        "\n",
        "# Calculate total grade points and total credits\n",
        "total_grade_points = sum(grade_points[grade] * credit for grade, credit in zip(grades, credits))\n",
        "total_credits = sum(credits)\n",
        "\n",
        "# Calculate GPA\n",
        "gpa = total_grade_points / total_credits\n",
        "print(f\"Student: {student_name}, GPA: {gpa:.2f}\")\n"
      ]
    },
    {
      "cell_type": "code",
      "source": [
        "# Grade to GPA mapping (including 'O' for Outstanding)\n",
        "grade_points = {\n",
        "    'A': 4.0,\n",
        "    'B': 3.0,\n",
        "    'C': 2.0,\n",
        "    'D': 1.0,\n",
        "    'F': 0.0,\n",
        "    'O': 4.0  # Added 'O' for Outstanding\n",
        "}\n",
        "\n",
        "# Accepting input from the user\n",
        "student_name = input(\"Enter student name: \")\n",
        "grades = input(\"Enter grades (space-separated, e.g., A B C): \").split()\n",
        "credits = list(map(int, input(\"Enter credits for each course (space-separated): \").split()))\n",
        "\n",
        "# GPA Calculation\n",
        "try:\n",
        "    total_grade_points = sum(grade_points[grade] * credit for grade, credit in zip(grades, credits))\n",
        "    total_credits = sum(credits)\n",
        "    gpa = total_grade_points / total_credits\n",
        "    print(f\"Student: {student_name}, GPA: {gpa:.2f}\")\n",
        "except KeyError as e:\n",
        "    print(f\"Error: Invalid grade '{e.args[0]}'. Please use valid grades (A, B, C, D, F, O).\")\n",
        "\n"
      ],
      "metadata": {
        "colab": {
          "base_uri": "https://localhost:8080/"
        },
        "id": "1P0VPz3l2tdT",
        "outputId": "66c15597-6c55-4b75-e2eb-648fe1b10de3"
      },
      "execution_count": 6,
      "outputs": [
        {
          "output_type": "stream",
          "name": "stdout",
          "text": [
            "Enter student name: BHUVAN KNSS\n",
            "Enter grades (space-separated, e.g., A B C): O O O\n",
            "Enter credits for each course (space-separated): 5 5 5\n",
            "Student: BHUVAN KNSS, GPA: 4.00\n"
          ]
        }
      ]
    },
    {
      "cell_type": "code",
      "source": [
        "# Read input from file\n",
        "with open(\"students.txt\", \"r\") as file:\n",
        "    for line in file:\n",
        "        data = line.split()\n",
        "        student_name = data[0]\n",
        "        grades = data[1:5]  # Assuming 4 grades\n",
        "        credits = list(map(int, data[5:]))\n",
        "\n",
        "        # GPA Calculation\n",
        "        total_grade_points = sum(grade_points[grade] * credit for grade, credit in zip(grades, credits))\n",
        "        total_credits = sum(credits)\n",
        "        gpa = total_grade_points / total_credits\n",
        "        print(f\"Student: {student_name}, GPA: {gpa:.2f}\")\n"
      ],
      "metadata": {
        "colab": {
          "base_uri": "https://localhost:8080/"
        },
        "id": "9uQbkUI43ULA",
        "outputId": "ec368b24-9e6e-411b-f3d5-91d333ad6a6f"
      },
      "execution_count": 4,
      "outputs": [
        {
          "output_type": "stream",
          "name": "stdout",
          "text": [
            "Student: Alice, GPA: 3.33\n",
            "Student: Bob, GPA: 3.07\n"
          ]
        }
      ]
    },
    {
      "cell_type": "code",
      "source": [
        "# Process multiple students and save results to a file\n",
        "with open(\"students.txt\", \"r\") as infile, open(\"results.txt\", \"w\") as outfile:\n",
        "    for line in infile:\n",
        "        data = line.split()\n",
        "        student_name = data[0]\n",
        "        grades = data[1:5]\n",
        "        credits = list(map(int, data[5:]))\n",
        "\n",
        "        # GPA Calculation\n",
        "        total_grade_points = sum(grade_points[grade] * credit for grade, credit in zip(grades, credits))\n",
        "        total_credits = sum(credits)\n",
        "        gpa = total_grade_points / total_credits\n",
        "        outfile.write(f\"Student: {student_name}, GPA: {gpa:.2f}\\n\")\n",
        "        print(f\"Processed {student_name}\")\n"
      ],
      "metadata": {
        "colab": {
          "base_uri": "https://localhost:8080/"
        },
        "id": "ix2hA33S3XTs",
        "outputId": "8dd9a316-4fc0-411b-ca8d-aca73015b3ac"
      },
      "execution_count": 5,
      "outputs": [
        {
          "output_type": "stream",
          "name": "stdout",
          "text": [
            "Processed Alice\n",
            "Processed Bob\n"
          ]
        }
      ]
    },
    {
      "cell_type": "code",
      "source": [
        "# Grade to GPA mapping\n",
        "grade_points = {\n",
        "    'A': 4.0,\n",
        "    'B': 3.0,\n",
        "    'C': 2.0,\n",
        "    'D': 1.0,\n",
        "    'F': 0.0\n",
        "}\n",
        "\n",
        "# Function to validate grades\n",
        "def validate_grades(grades):\n",
        "    for grade in grades:\n",
        "        if grade not in grade_points:\n",
        "            raise ValueError(f\"Invalid grade '{grade}'. Valid grades are A, B, C, D, F.\")\n",
        "\n",
        "# Function to validate credits\n",
        "def validate_credits(credits):\n",
        "    if any(credit <= 0 for credit in credits):\n",
        "        raise ValueError(\"Credits must be positive integers.\")\n",
        "\n",
        "# Main Program\n",
        "try:\n",
        "    # Input from user\n",
        "    student_name = input(\"Enter student name: \")\n",
        "    grades = input(\"Enter grades (space-separated, e.g., A B C): \").split()\n",
        "    credits = input(\"Enter credits for each course (space-separated): \").split()\n",
        "\n",
        "    # Check for empty input\n",
        "    if not grades or not credits:\n",
        "        raise ValueError(\"Grades and credits cannot be empty.\")\n",
        "\n",
        "    # Convert credits to integers\n",
        "    credits = list(map(int, credits))\n",
        "\n",
        "    # Validate grades and credits\n",
        "    validate_grades(grades)\n",
        "    validate_credits(credits)\n",
        "\n",
        "    # Ensure the number of grades matches the number of credits\n",
        "    if len(grades) != len(credits):\n",
        "        raise ValueError(\"The number of grades must match the number of credits.\")\n",
        "\n",
        "    # GPA Calculation\n",
        "    total_grade_points = sum(grade_points[grade] * credit for grade, credit in zip(grades, credits))\n",
        "    total_credits = sum(credits)\n",
        "    gpa = total_grade_points / total_credits\n",
        "    print(f\"Student: {student_name}, GPA: {gpa:.2f}\")\n",
        "\n",
        "except ValueError as e:\n",
        "    print(f\"Error: {e}\")\n"
      ],
      "metadata": {
        "colab": {
          "base_uri": "https://localhost:8080/"
        },
        "id": "o0KU4aDu5b5D",
        "outputId": "6ccb4b7a-6ccf-480e-b770-365474fb47d3"
      },
      "execution_count": 8,
      "outputs": [
        {
          "output_type": "stream",
          "name": "stdout",
          "text": [
            "Enter student name: Harshitha\n",
            "Enter grades (space-separated, e.g., A B C): A B C D\n",
            "Enter credits for each course (space-separated): 4 4 4 4\n",
            "Student: Harshitha, GPA: 2.50\n"
          ]
        }
      ]
    }
  ]
}